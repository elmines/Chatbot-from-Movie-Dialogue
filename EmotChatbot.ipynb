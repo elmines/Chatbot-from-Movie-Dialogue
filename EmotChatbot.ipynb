{
 "cells": [
  {
   "cell_type": "markdown",
   "metadata": {},
   "source": [
    "# Building a Chatbot"
   ]
  },
  {
   "cell_type": "markdown",
   "metadata": {},
   "source": [
    "In this project, we will build a chatbot using conversations from Cornell University's [Movie Dialogue Corpus](https://www.cs.cornell.edu/~cristian/Cornell_Movie-Dialogs_Corpus.html). The main features of our model are LSTM cells, a bidirectional dynamic RNN, and decoders with attention. \n",
    "\n",
    "The conversations will be cleaned rather extensively to help the model to produce better responses. As part of the cleaning process, punctuation will be removed, rare words will be replaced with \"UNK\" (our \"unknown\" token), longer sentences will not be used, and all letters will be in the lowercase. \n",
    "\n",
    "With a larger amount of data, it would be more practical to keep features, such as punctuation. However, I am using FloydHub's GPU services and I don't want to get carried away with too training for too long."
   ]
  },
  {
   "cell_type": "code",
   "execution_count": 3,
   "metadata": {},
   "outputs": [
    {
     "data": {
      "text/plain": [
       "'1.7.0'"
      ]
     },
     "execution_count": 3,
     "metadata": {},
     "output_type": "execute_result"
    }
   ],
   "source": [
    "import pandas as pd\n",
    "import numpy as np\n",
    "import tensorflow as tf\n",
    "import re\n",
    "import time\n",
    "tf.__version__"
   ]
  },
  {
   "cell_type": "markdown",
   "metadata": {},
   "source": [
    "Most of the code to load the data is courtesy of https://github.com/suriyadeepan/practical_seq2seq/blob/master/datasets/cornell_corpus/data.py."
   ]
  },
  {
   "cell_type": "markdown",
   "metadata": {},
   "source": [
    "### Inspect and Load the Data"
   ]
  },
  {
   "cell_type": "code",
   "execution_count": 4,
   "metadata": {},
   "outputs": [],
   "source": [
    "# Load the data\n",
    "lines = open('movie_lines.txt', encoding='utf-8', errors='ignore').read().split('\\n')\n",
    "conv_lines = open('movie_conversations.txt', encoding='utf-8', errors='ignore').read().split('\\n')"
   ]
  },
  {
   "cell_type": "code",
   "execution_count": 5,
   "metadata": {},
   "outputs": [
    {
     "data": {
      "text/plain": [
       "['L1045 +++$+++ u0 +++$+++ m0 +++$+++ BIANCA +++$+++ They do not!',\n",
       " 'L1044 +++$+++ u2 +++$+++ m0 +++$+++ CAMERON +++$+++ They do to!',\n",
       " 'L985 +++$+++ u0 +++$+++ m0 +++$+++ BIANCA +++$+++ I hope so.',\n",
       " 'L984 +++$+++ u2 +++$+++ m0 +++$+++ CAMERON +++$+++ She okay?',\n",
       " \"L925 +++$+++ u0 +++$+++ m0 +++$+++ BIANCA +++$+++ Let's go.\",\n",
       " 'L924 +++$+++ u2 +++$+++ m0 +++$+++ CAMERON +++$+++ Wow',\n",
       " \"L872 +++$+++ u0 +++$+++ m0 +++$+++ BIANCA +++$+++ Okay -- you're gonna need to learn how to lie.\",\n",
       " 'L871 +++$+++ u2 +++$+++ m0 +++$+++ CAMERON +++$+++ No',\n",
       " 'L870 +++$+++ u0 +++$+++ m0 +++$+++ BIANCA +++$+++ I\\'m kidding.  You know how sometimes you just become this \"persona\"?  And you don\\'t know how to quit?',\n",
       " 'L869 +++$+++ u0 +++$+++ m0 +++$+++ BIANCA +++$+++ Like my fear of wearing pastels?']"
      ]
     },
     "execution_count": 5,
     "metadata": {},
     "output_type": "execute_result"
    }
   ],
   "source": [
    "# The sentences that we will be using to train our model.\n",
    "lines[:10]"
   ]
  },
  {
   "cell_type": "code",
   "execution_count": 6,
   "metadata": {},
   "outputs": [
    {
     "data": {
      "text/plain": [
       "[\"u0 +++$+++ u2 +++$+++ m0 +++$+++ ['L194', 'L195', 'L196', 'L197']\",\n",
       " \"u0 +++$+++ u2 +++$+++ m0 +++$+++ ['L198', 'L199']\",\n",
       " \"u0 +++$+++ u2 +++$+++ m0 +++$+++ ['L200', 'L201', 'L202', 'L203']\",\n",
       " \"u0 +++$+++ u2 +++$+++ m0 +++$+++ ['L204', 'L205', 'L206']\",\n",
       " \"u0 +++$+++ u2 +++$+++ m0 +++$+++ ['L207', 'L208']\",\n",
       " \"u0 +++$+++ u2 +++$+++ m0 +++$+++ ['L271', 'L272', 'L273', 'L274', 'L275']\",\n",
       " \"u0 +++$+++ u2 +++$+++ m0 +++$+++ ['L276', 'L277']\",\n",
       " \"u0 +++$+++ u2 +++$+++ m0 +++$+++ ['L280', 'L281']\",\n",
       " \"u0 +++$+++ u2 +++$+++ m0 +++$+++ ['L363', 'L364']\",\n",
       " \"u0 +++$+++ u2 +++$+++ m0 +++$+++ ['L365', 'L366']\"]"
      ]
     },
     "execution_count": 6,
     "metadata": {},
     "output_type": "execute_result"
    }
   ],
   "source": [
    "# The sentences' ids, which will be processed to become our input and target data.\n",
    "conv_lines[:10]"
   ]
  },
  {
   "cell_type": "code",
   "execution_count": 7,
   "metadata": {},
   "outputs": [],
   "source": [
    "# Create a dictionary to map each line's id with its text\n",
    "id2line = {}\n",
    "for line in lines:\n",
    "    _line = line.split(' +++$+++ ')\n",
    "    if len(_line) == 5:\n",
    "        id2line[_line[0]] = _line[4]"
   ]
  },
  {
   "cell_type": "code",
   "execution_count": 8,
   "metadata": {},
   "outputs": [],
   "source": [
    "# Create a list of all of the conversations' lines' ids.\n",
    "convs = [ ]\n",
    "for line in conv_lines[:-1]:\n",
    "    _line = line.split(' +++$+++ ')[-1][1:-1].replace(\"'\",\"\").replace(\" \",\"\")\n",
    "    convs.append(_line.split(','))"
   ]
  },
  {
   "cell_type": "code",
   "execution_count": 9,
   "metadata": {},
   "outputs": [
    {
     "data": {
      "text/plain": [
       "[['L194', 'L195', 'L196', 'L197'],\n",
       " ['L198', 'L199'],\n",
       " ['L200', 'L201', 'L202', 'L203'],\n",
       " ['L204', 'L205', 'L206'],\n",
       " ['L207', 'L208'],\n",
       " ['L271', 'L272', 'L273', 'L274', 'L275'],\n",
       " ['L276', 'L277'],\n",
       " ['L280', 'L281'],\n",
       " ['L363', 'L364'],\n",
       " ['L365', 'L366']]"
      ]
     },
     "execution_count": 9,
     "metadata": {},
     "output_type": "execute_result"
    }
   ],
   "source": [
    "convs[:10]"
   ]
  },
  {
   "cell_type": "code",
   "execution_count": 10,
   "metadata": {},
   "outputs": [],
   "source": [
    "# Sort the sentences into questions (inputs) and answers (targets)\n",
    "questions = []\n",
    "answers = []\n",
    "\n",
    "for conv in convs:\n",
    "    for i in range(len(conv)-1):\n",
    "        questions.append(id2line[conv[i]])\n",
    "        answers.append(id2line[conv[i+1]])"
   ]
  },
  {
   "cell_type": "code",
   "execution_count": 11,
   "metadata": {},
   "outputs": [
    {
     "name": "stdout",
     "output_type": "stream",
     "text": [
      "Can we make this quick?  Roxanne Korrine and Andrew Barrett are having an incredibly horrendous public break- up on the quad.  Again.\n",
      "Well, I thought we'd start with pronunciation, if that's okay with you.\n",
      "\n",
      "Well, I thought we'd start with pronunciation, if that's okay with you.\n",
      "Not the hacking and gagging and spitting part.  Please.\n",
      "\n",
      "Not the hacking and gagging and spitting part.  Please.\n",
      "Okay... then how 'bout we try out some French cuisine.  Saturday?  Night?\n",
      "\n",
      "You're asking me out.  That's so cute. What's your name again?\n",
      "Forget it.\n",
      "\n",
      "No, no, it's my fault -- we didn't have a proper introduction ---\n",
      "Cameron.\n",
      "\n"
     ]
    }
   ],
   "source": [
    "# Check if we have loaded the data correctly\n",
    "limit = 0\n",
    "for i in range(limit, limit+5):\n",
    "    print(questions[i])\n",
    "    print(answers[i])\n",
    "    print()"
   ]
  },
  {
   "cell_type": "code",
   "execution_count": 12,
   "metadata": {},
   "outputs": [
    {
     "name": "stdout",
     "output_type": "stream",
     "text": [
      "221616\n",
      "221616\n"
     ]
    }
   ],
   "source": [
    "# Compare lengths of questions and answers\n",
    "print(len(questions))\n",
    "print(len(answers))"
   ]
  },
  {
   "cell_type": "code",
   "execution_count": 13,
   "metadata": {},
   "outputs": [],
   "source": [
    "def clean_text(text):\n",
    "    '''Clean text by removing unnecessary characters and altering the format of words.'''\n",
    "\n",
    "    text = text.lower()\n",
    "    \n",
    "    text = re.sub(r\"i'm\", \"i am\", text)\n",
    "    text = re.sub(r\"he's\", \"he is\", text)\n",
    "    text = re.sub(r\"she's\", \"she is\", text)\n",
    "    text = re.sub(r\"it's\", \"it is\", text)\n",
    "    text = re.sub(r\"that's\", \"that is\", text)\n",
    "    text = re.sub(r\"what's\", \"that is\", text)\n",
    "    text = re.sub(r\"where's\", \"where is\", text)\n",
    "    text = re.sub(r\"how's\", \"how is\", text)\n",
    "    text = re.sub(r\"\\'ll\", \" will\", text)\n",
    "    text = re.sub(r\"\\'ve\", \" have\", text)\n",
    "    text = re.sub(r\"\\'re\", \" are\", text)\n",
    "    text = re.sub(r\"\\'d\", \" would\", text)\n",
    "    text = re.sub(r\"\\'re\", \" are\", text)\n",
    "    text = re.sub(r\"won't\", \"will not\", text)\n",
    "    text = re.sub(r\"can't\", \"cannot\", text)\n",
    "    text = re.sub(r\"n't\", \" not\", text)\n",
    "    text = re.sub(r\"n'\", \"ng\", text)\n",
    "    text = re.sub(r\"'bout\", \"about\", text)\n",
    "    text = re.sub(r\"'til\", \"until\", text)\n",
    "    text = re.sub(r\"[-()\\\"#/@;:<>{}`+=~|.!?,]\", \"\", text)\n",
    "    \n",
    "    return text"
   ]
  },
  {
   "cell_type": "code",
   "execution_count": 14,
   "metadata": {},
   "outputs": [],
   "source": [
    "# Clean the data\n",
    "clean_questions = []\n",
    "for question in questions:\n",
    "    clean_questions.append(clean_text(question))\n",
    "    \n",
    "clean_answers = []    \n",
    "for answer in answers:\n",
    "    clean_answers.append(clean_text(answer))"
   ]
  },
  {
   "cell_type": "code",
   "execution_count": 15,
   "metadata": {},
   "outputs": [
    {
     "name": "stdout",
     "output_type": "stream",
     "text": [
      "can we make this quick  roxanne korrine and andrew barrett are having an incredibly horrendous public break up on the quad  again\n",
      "well i thought we would start with pronunciation if that is okay with you\n",
      "\n",
      "well i thought we would start with pronunciation if that is okay with you\n",
      "not the hacking and gagging and spitting part  please\n",
      "\n",
      "not the hacking and gagging and spitting part  please\n",
      "okay then how about we try out some french cuisine  saturday  night\n",
      "\n",
      "you are asking me out  that is so cute that is your name again\n",
      "forget it\n",
      "\n",
      "no no it is my fault  we did not have a proper introduction \n",
      "cameron\n",
      "\n"
     ]
    }
   ],
   "source": [
    "# Take a look at some of the data to ensure that it has been cleaned well.\n",
    "limit = 0\n",
    "for i in range(limit, limit+5):\n",
    "    print(clean_questions[i])\n",
    "    print(clean_answers[i])\n",
    "    print()"
   ]
  },
  {
   "cell_type": "code",
   "execution_count": 16,
   "metadata": {},
   "outputs": [],
   "source": [
    "# Find the length of sentences\n",
    "lengths = []\n",
    "for question in clean_questions:\n",
    "    lengths.append(len(question.split()))\n",
    "for answer in clean_answers:\n",
    "    lengths.append(len(answer.split()))\n",
    "\n",
    "# Create a dataframe so that the values can be inspected\n",
    "lengths = pd.DataFrame(lengths, columns=['counts'])"
   ]
  },
  {
   "cell_type": "code",
   "execution_count": 17,
   "metadata": {},
   "outputs": [
    {
     "data": {
      "text/html": [
       "<div>\n",
       "<style scoped>\n",
       "    .dataframe tbody tr th:only-of-type {\n",
       "        vertical-align: middle;\n",
       "    }\n",
       "\n",
       "    .dataframe tbody tr th {\n",
       "        vertical-align: top;\n",
       "    }\n",
       "\n",
       "    .dataframe thead th {\n",
       "        text-align: right;\n",
       "    }\n",
       "</style>\n",
       "<table border=\"1\" class=\"dataframe\">\n",
       "  <thead>\n",
       "    <tr style=\"text-align: right;\">\n",
       "      <th></th>\n",
       "      <th>counts</th>\n",
       "    </tr>\n",
       "  </thead>\n",
       "  <tbody>\n",
       "    <tr>\n",
       "      <th>count</th>\n",
       "      <td>443232.000000</td>\n",
       "    </tr>\n",
       "    <tr>\n",
       "      <th>mean</th>\n",
       "      <td>10.872094</td>\n",
       "    </tr>\n",
       "    <tr>\n",
       "      <th>std</th>\n",
       "      <td>12.215895</td>\n",
       "    </tr>\n",
       "    <tr>\n",
       "      <th>min</th>\n",
       "      <td>0.000000</td>\n",
       "    </tr>\n",
       "    <tr>\n",
       "      <th>25%</th>\n",
       "      <td>4.000000</td>\n",
       "    </tr>\n",
       "    <tr>\n",
       "      <th>50%</th>\n",
       "      <td>7.000000</td>\n",
       "    </tr>\n",
       "    <tr>\n",
       "      <th>75%</th>\n",
       "      <td>14.000000</td>\n",
       "    </tr>\n",
       "    <tr>\n",
       "      <th>max</th>\n",
       "      <td>555.000000</td>\n",
       "    </tr>\n",
       "  </tbody>\n",
       "</table>\n",
       "</div>"
      ],
      "text/plain": [
       "              counts\n",
       "count  443232.000000\n",
       "mean       10.872094\n",
       "std        12.215895\n",
       "min         0.000000\n",
       "25%         4.000000\n",
       "50%         7.000000\n",
       "75%        14.000000\n",
       "max       555.000000"
      ]
     },
     "execution_count": 17,
     "metadata": {},
     "output_type": "execute_result"
    }
   ],
   "source": [
    "lengths.describe()"
   ]
  },
  {
   "cell_type": "code",
   "execution_count": 18,
   "metadata": {},
   "outputs": [
    {
     "name": "stdout",
     "output_type": "stream",
     "text": [
      "16.0\n",
      "19.0\n",
      "24.0\n",
      "32.0\n",
      "58.0\n"
     ]
    }
   ],
   "source": [
    "print(np.percentile(lengths, 80))\n",
    "print(np.percentile(lengths, 85))\n",
    "print(np.percentile(lengths, 90))\n",
    "print(np.percentile(lengths, 95))\n",
    "print(np.percentile(lengths, 99))"
   ]
  },
  {
   "cell_type": "code",
   "execution_count": 19,
   "metadata": {},
   "outputs": [],
   "source": [
    "# Remove questions and answers that are shorter than 2 words and longer than 20 words.\n",
    "min_line_length = 2\n",
    "max_line_length = 20\n",
    "\n",
    "# Filter out the questions that are too short/long\n",
    "short_questions_temp = []\n",
    "short_answers_temp = []\n",
    "\n",
    "i = 0\n",
    "for question in clean_questions:\n",
    "    if len(question.split()) >= min_line_length and len(question.split()) <= max_line_length:\n",
    "        short_questions_temp.append(question)\n",
    "        short_answers_temp.append(clean_answers[i])\n",
    "    i += 1\n",
    "\n",
    "# Filter out the answers that are too short/long\n",
    "short_questions = []\n",
    "short_answers = []\n",
    "\n",
    "i = 0\n",
    "for answer in short_answers_temp:\n",
    "    if len(answer.split()) >= min_line_length and len(answer.split()) <= max_line_length:\n",
    "        short_answers.append(answer)\n",
    "        short_questions.append(short_questions_temp[i])\n",
    "    i += 1"
   ]
  },
  {
   "cell_type": "code",
   "execution_count": 20,
   "metadata": {},
   "outputs": [
    {
     "name": "stdout",
     "output_type": "stream",
     "text": [
      "# of questions: 138335\n",
      "# of answers: 138335\n",
      "% of data used: 62.419999999999995%\n"
     ]
    }
   ],
   "source": [
    "# Compare the number of lines we will use with the total number of lines.\n",
    "print(\"# of questions:\", len(short_questions))\n",
    "print(\"# of answers:\", len(short_answers))\n",
    "print(\"% of data used: {}%\".format(round(len(short_questions)/len(questions),4)*100))"
   ]
  },
  {
   "cell_type": "code",
   "execution_count": 21,
   "metadata": {},
   "outputs": [],
   "source": [
    "# Create a dictionary for the frequency of the vocabulary\n",
    "vocab = {}\n",
    "for question in short_questions:\n",
    "    for word in question.split():\n",
    "        if word not in vocab:\n",
    "            vocab[word] = 1\n",
    "        else:\n",
    "            vocab[word] += 1\n",
    "            \n",
    "for answer in short_answers:\n",
    "    for word in answer.split():\n",
    "        if word not in vocab:\n",
    "            vocab[word] = 1\n",
    "        else:\n",
    "            vocab[word] += 1"
   ]
  },
  {
   "cell_type": "code",
   "execution_count": 22,
   "metadata": {},
   "outputs": [],
   "source": [
    "# Remove rare words from the vocabulary.\n",
    "# We will aim to replace fewer than 5% of words with <UNK>\n",
    "# You will see this ratio soon.\n",
    "threshold = 10\n",
    "count = 0\n",
    "for k,v in vocab.items():\n",
    "    if v >= threshold:\n",
    "        count += 1"
   ]
  },
  {
   "cell_type": "code",
   "execution_count": 23,
   "metadata": {},
   "outputs": [
    {
     "name": "stdout",
     "output_type": "stream",
     "text": [
      "Size of total vocab: 45618\n",
      "Size of vocab we will use: 8092\n"
     ]
    }
   ],
   "source": [
    "print(\"Size of total vocab:\", len(vocab))\n",
    "print(\"Size of vocab we will use:\", count)"
   ]
  },
  {
   "cell_type": "code",
   "execution_count": 24,
   "metadata": {},
   "outputs": [],
   "source": [
    "# In case we want to use a different vocabulary sizes for the source and target text, \n",
    "# we can set different threshold values.\n",
    "# Nonetheless, we will create dictionaries to provide a unique integer for each word.\n",
    "questions_vocab_to_int = {}\n",
    "\n",
    "word_num = 0\n",
    "for word, count in vocab.items():\n",
    "    if count >= threshold:\n",
    "        questions_vocab_to_int[word] = word_num\n",
    "        word_num += 1\n",
    "        \n",
    "answers_vocab_to_int = {}\n",
    "\n",
    "word_num = 0\n",
    "for word, count in vocab.items():\n",
    "    if count >= threshold:\n",
    "        answers_vocab_to_int[word] = word_num\n",
    "        word_num += 1"
   ]
  },
  {
   "cell_type": "code",
   "execution_count": 25,
   "metadata": {},
   "outputs": [
    {
     "name": "stdout",
     "output_type": "stream",
     "text": [
      "<PAD> <--> 8092\n",
      "<EOS> <--> 8093\n",
      "<UNK> <--> 8094\n",
      "<GO> <--> 8095\n"
     ]
    }
   ],
   "source": [
    "# Add the unique tokens to the vocabulary dictionaries.\n",
    "codes = ['<PAD>','<EOS>','<UNK>','<GO>']\n",
    "\n",
    "for code in codes:\n",
    "    questions_vocab_to_int[code] = len(questions_vocab_to_int)\n",
    "    \n",
    "for code in codes:\n",
    "    answers_vocab_to_int[code] = len(answers_vocab_to_int)\n",
    "    print(code, \"<-->\", questions_vocab_to_int[code]) #For debugging\n"
   ]
  },
  {
   "cell_type": "code",
   "execution_count": 26,
   "metadata": {},
   "outputs": [],
   "source": [
    "# Create dictionaries to map the unique integers to their respective words.\n",
    "# i.e. an inverse dictionary for vocab_to_int.\n",
    "questions_int_to_vocab = {v_i: v for v, v_i in questions_vocab_to_int.items()}\n",
    "answers_int_to_vocab = {v_i: v for v, v_i in answers_vocab_to_int.items()}"
   ]
  },
  {
   "cell_type": "code",
   "execution_count": 27,
   "metadata": {},
   "outputs": [
    {
     "name": "stdout",
     "output_type": "stream",
     "text": [
      "8096\n",
      "8096\n",
      "8096\n",
      "8096\n"
     ]
    }
   ],
   "source": [
    "# Check the length of the dictionaries.\n",
    "print(len(questions_vocab_to_int))\n",
    "print(len(questions_int_to_vocab))\n",
    "print(len(answers_vocab_to_int))\n",
    "print(len(answers_int_to_vocab))"
   ]
  },
  {
   "cell_type": "code",
   "execution_count": 28,
   "metadata": {},
   "outputs": [],
   "source": [
    "# Add the end of sentence token to the end of every answer.\n",
    "for i in range(len(short_answers)):\n",
    "    short_answers[i] += ' <EOS>'"
   ]
  },
  {
   "cell_type": "code",
   "execution_count": 29,
   "metadata": {},
   "outputs": [],
   "source": [
    "# Convert the text to integers. \n",
    "# Replace any words that are not in the respective vocabulary with <UNK> \n",
    "questions_int = []\n",
    "for question in short_questions:\n",
    "    ints = []\n",
    "    for word in question.split():\n",
    "        if word not in questions_vocab_to_int:\n",
    "            ints.append(questions_vocab_to_int['<UNK>'])\n",
    "        else:\n",
    "            ints.append(questions_vocab_to_int[word])\n",
    "    questions_int.append(ints)\n",
    "    \n",
    "answers_int = []\n",
    "for answer in short_answers:\n",
    "    ints = []\n",
    "    for word in answer.split():\n",
    "        if word not in answers_vocab_to_int:\n",
    "            ints.append(answers_vocab_to_int['<UNK>'])\n",
    "        else:\n",
    "            ints.append(answers_vocab_to_int[word])\n",
    "    answers_int.append(ints)"
   ]
  },
  {
   "cell_type": "code",
   "execution_count": 30,
   "metadata": {},
   "outputs": [
    {
     "name": "stdout",
     "output_type": "stream",
     "text": [
      "138335\n",
      "138335\n"
     ]
    }
   ],
   "source": [
    "# Check the lengths\n",
    "print(len(questions_int))\n",
    "print(len(answers_int))"
   ]
  },
  {
   "cell_type": "code",
   "execution_count": 31,
   "metadata": {},
   "outputs": [
    {
     "name": "stdout",
     "output_type": "stream",
     "text": [
      "Total number of words: 2334533\n",
      "Number of times <UNK> is used: 92436\n",
      "Percent of words that are <UNK>: 3.96%\n"
     ]
    }
   ],
   "source": [
    "# Calculate what percentage of all words have been replaced with <UNK>\n",
    "word_count = 0\n",
    "unk_count = 0\n",
    "\n",
    "for question in questions_int:\n",
    "    for word in question:\n",
    "        if word == questions_vocab_to_int[\"<UNK>\"]:\n",
    "            unk_count += 1\n",
    "        word_count += 1\n",
    "    \n",
    "for answer in answers_int:\n",
    "    for word in answer:\n",
    "        if word == answers_vocab_to_int[\"<UNK>\"]:\n",
    "            unk_count += 1\n",
    "        word_count += 1\n",
    "    \n",
    "unk_ratio = round(unk_count/word_count,4)*100\n",
    "    \n",
    "print(\"Total number of words:\", word_count)\n",
    "print(\"Number of times <UNK> is used:\", unk_count)\n",
    "print(\"Percent of words that are <UNK>: {}%\".format(round(unk_ratio,3)))"
   ]
  },
  {
   "cell_type": "code",
   "execution_count": 32,
   "metadata": {
    "scrolled": true
   },
   "outputs": [
    {
     "name": "stdout",
     "output_type": "stream",
     "text": [
      "138335\n",
      "138335\n",
      "\n",
      "[58, 48]\n",
      "[1, 59, 59, 59, 60, 61, 62, 1, 63, 12, 64, 36, 65, 66, 8093]\n",
      "\n",
      "[1, 84]\n",
      "[11, 192, 174, 55, 61, 21, 6, 8094, 159, 11, 8093]\n",
      "\n",
      "[0, 85]\n",
      "[153, 8, 9, 165, 11, 467, 55, 271, 8093]\n",
      "\n"
     ]
    }
   ],
   "source": [
    "# Sort questions and answers by the length of questions.\n",
    "# This will reduce the amount of padding during training\n",
    "# Which should speed up training and help to reduce the loss\n",
    "\n",
    "sorted_questions = []\n",
    "sorted_answers = []\n",
    "\n",
    "for length in range(1, max_line_length+1):\n",
    "    for i in enumerate(questions_int):\n",
    "        if len(i[1]) == length:\n",
    "            sorted_questions.append(questions_int[i[0]])\n",
    "            sorted_answers.append(answers_int[i[0]])\n",
    "\n",
    "print(len(sorted_questions))\n",
    "print(len(sorted_answers))\n",
    "print()\n",
    "for i in range(3):\n",
    "    print(sorted_questions[i])\n",
    "    print(sorted_answers[i])\n",
    "    print()"
   ]
  },
  {
   "cell_type": "code",
   "execution_count": 33,
   "metadata": {},
   "outputs": [],
   "source": [
    "#FIXME: This really should be something like \"preprocess_targets\"\n",
    "def process_decoding_input(target_data, vocab_to_int, batch_size):\n",
    "    '''Remove the last word id from each batch and concat the <GO> to the begining of each batch'''\n",
    "    ending = tf.strided_slice(target_data, [0, 0], [batch_size, -1], [1, 1])\n",
    "    dec_input = tf.concat([tf.fill([batch_size, 1], vocab_to_int['<GO>']), ending], 1)\n",
    "    return dec_input\n"
   ]
  },
  {
   "cell_type": "code",
   "execution_count": 34,
   "metadata": {},
   "outputs": [],
   "source": [
    "def dropout_cell(rnn_size, keep_prob):\n",
    "    lstm = tf.contrib.rnn.BasicLSTMCell(rnn_size)\n",
    "    return tf.contrib.rnn.DropoutWrapper(lstm, input_keep_prob=keep_prob)\n",
    "\n",
    "def multi_dropout_cell(rnn_size, keep_prob, num_layers):    \n",
    "    return tf.contrib.rnn.MultiRNNCell( [dropout_cell(rnn_size, keep_prob) for _ in range(num_layers)] )"
   ]
  },
  {
   "cell_type": "code",
   "execution_count": 35,
   "metadata": {},
   "outputs": [],
   "source": [
    "def encoding_layer(rnn_inputs, rnn_size, num_layers, keep_prob): #, sequence_length):\n",
    "    \"\"\"\n",
    "    Create the encoding layer\n",
    "    \n",
    "    Returns a tuple `(outputs, output_states)` where\n",
    "      outputs is a 2-tuple of vectors of dimensions [sequence_length, rnn_size] for the forward and backward passes\n",
    "      output_states is a 2-tupe of the final hidden states of the forward and backward passes\n",
    "    \n",
    "    \"\"\"\n",
    "    forward_cell = multi_dropout_cell(rnn_size, keep_prob, num_layers)\n",
    "    backward_cell = multi_dropout_cell(rnn_size, keep_prob, num_layers)\n",
    "    outputs, states = tf.nn.bidirectional_dynamic_rnn(cell_fw = forward_cell,\n",
    "                                                   cell_bw = backward_cell,\n",
    "                                                   #sequence_length = sequence_length,\n",
    "                                                   inputs = rnn_inputs, \n",
    "                                                   dtype=tf.float32)\n",
    "    return outputs, states"
   ]
  },
  {
   "cell_type": "code",
   "execution_count": 36,
   "metadata": {},
   "outputs": [],
   "source": [
    "#Ethan's decoding layer\n",
    "def decoding_layer(dec_embed_input, dec_embeddings, enc_state, enc_outputs, #source_lengths,\n",
    "                   target_lengths,\n",
    "                   rnn_size, num_layers, vocab_to_int, output_layer, keep_prob, batch_size):\n",
    "        \n",
    "    with tf.variable_scope(\"decoding\") as decoding_scope:\n",
    "        dec_cell = multi_dropout_cell(rnn_size, keep_prob, num_layers)\n",
    "        \n",
    "        weights = tf.truncated_normal_initializer(stddev=0.1)\n",
    "        biases = tf.zeros_initializer()\n",
    "        \n",
    "        #FIXME: Is that num_units parameter correct? \n",
    "        attention_mechanism = tf.contrib.seq2seq.BahdanauAttention(num_units = dec_cell.output_size,\n",
    "                                                               memory = enc_outputs)#,\n",
    "                                                               #memory_sequence_length = source_lengths)\n",
    "        #FIXME: Find a good value for attention_layer_size\n",
    "        attn_cell = tf.contrib.seq2seq.AttentionWrapper(dec_cell,\n",
    "                                                        attention_mechanism,\n",
    "                                                        attention_layer_size = dec_cell.output_size)\n",
    "        \"\"\"\n",
    "        beam_width = 4\n",
    "\n",
    "        tiled_enc_outputs = tf.contrib.seq2seq.tile_batch(enc_outputs, beam_width)\n",
    "        attention_mechanism = tf.contrib.seq2seq.BahdanauAttention(num_units = dec_cell.output_size,\n",
    "                                                               memory = tiled_enc_outputs)\n",
    "        attn_cell = tf.contrib.seq2seq.AttentionWrapper(dec_cell,\n",
    "                                                        attention_mechanism,\n",
    "                                                        attention_layer_size = dec_cell.output_size)\n",
    "        \n",
    "        beam_decoder_gen = lambda: tf.contrib.seq2seq.BeamSearchDecoder(cell = attn_cell,\n",
    "                                        embedding = dec_embeddings,\n",
    "                                        start_tokens = tf.tile([vocab_to_int[\"<GO>\"]], [batch_size * beam_size]),\n",
    "                                        end_token = vocab_to_int[\"<EOS>\"],\n",
    "                                        beam_width = beam_width,\n",
    "                                        initial_state = attn_cell.zero_state(batch_size * beam_width),\n",
    "                                        output_layer = output_layer,\n",
    "        )\n",
    "                                             \n",
    "        \"\"\"\n",
    "                                             \n",
    "        \n",
    "        #The only thing that varies between the two decoder's is the helper\n",
    "        decoder_gen = lambda helper: tf.contrib.seq2seq.BasicDecoder(attn_cell,\n",
    "                                        helper,\n",
    "                                        attn_cell.zero_state(batch_size, tf.float32).clone(cell_state=enc_state),\n",
    "                                        output_layer = output_layer\n",
    "                                     )\n",
    "        decoder_output = lambda decoder: tf.contrib.seq2seq.dynamic_decode(decoder, scope=decoding_scope)[0].rnn_output\n",
    "        \n",
    "        #TRAINING\n",
    "        train_helper = tf.contrib.seq2seq.TrainingHelper(dec_embed_input, target_lengths, time_major=False)    \n",
    "        train_decoder = decoder_gen(train_helper)        \n",
    "        train_logits = decoder_output(train_decoder)\n",
    "        \n",
    "        decoding_scope.reuse_variables()\n",
    "\n",
    "        #INFERENCE\n",
    "        infer_helper = tf.contrib.seq2seq.GreedyEmbeddingHelper(embedding=dec_embeddings,\n",
    "                                                                start_tokens = tf.tile([vocab_to_int[\"<GO>\"]], [batch_size]),\n",
    "                                                                end_token = vocab_to_int[\"<EOS>\"])\n",
    "        infer_decoder = decoder_gen(infer_helper)        \n",
    "        infer_logits = decoder_output(infer_decoder)\n",
    "                \n",
    "        return train_logits, infer_logits"
   ]
  },
  {
   "cell_type": "code",
   "execution_count": 37,
   "metadata": {},
   "outputs": [],
   "source": [
    "def seq2seq_model(input_data, target_data, keep_prob, batch_size, #source_sequence_lengths,\n",
    "                  target_sequence_lengths,\n",
    "                  answers_vocab_size, questions_vocab_size, enc_embedding_size, dec_embedding_size, rnn_size, num_layers, \n",
    "                  questions_vocab_to_int):\n",
    "    \n",
    "    '''Use the previous functions to create the training and inference logits'''\n",
    "    \n",
    "    enc_embed_input = tf.contrib.layers.embed_sequence(input_data, \n",
    "                                                       questions_vocab_size, \n",
    "                                                       enc_embedding_size,\n",
    "                                                       initializer = tf.random_uniform_initializer(0,1))\n",
    "    \n",
    "    \n",
    "    enc_outputs, enc_states = encoding_layer(enc_embed_input, rnn_size, num_layers, keep_prob)#, source_sequence_lengths)    \n",
    "    concatenated_enc_output = tf.concat(enc_outputs, -1)\n",
    "    init_dec_state = enc_states[0]    \n",
    "\n",
    "    \n",
    "    dec_input = process_decoding_input(target_data, questions_vocab_to_int, batch_size)\n",
    "    dec_embeddings = tf.Variable(tf.random_uniform([answers_vocab_size, dec_embedding_size], 0, 1))    \n",
    "    dec_embed_input = tf.nn.embedding_lookup(dec_embeddings, dec_input)\n",
    "    \n",
    "    output_layer = tf.layers.Dense(answers_vocab_size)\n",
    "    train_logits, infer_logits = decoding_layer(dec_embed_input, \n",
    "                                                dec_embeddings,\n",
    "                                                init_dec_state,\n",
    "                                                concatenated_enc_output, \n",
    "                                                #source_sequence_lengths,\n",
    "                                                target_sequence_lengths, \n",
    "                                                rnn_size, \n",
    "                                                num_layers, \n",
    "                                                answers_vocab_to_int,\n",
    "                                                output_layer,\n",
    "                                                keep_prob, \n",
    "                                                batch_size)\n",
    "    \n",
    "    return train_logits, infer_logits"
   ]
  },
  {
   "cell_type": "code",
   "execution_count": 38,
   "metadata": {},
   "outputs": [],
   "source": [
    "# Set the Hyperparameters\n",
    "epochs = 100\n",
    "batch_size = 128\n",
    "rnn_size = 512\n",
    "num_layers = 2\n",
    "encoding_embedding_size = 512\n",
    "decoding_embedding_size = 512\n",
    "\n",
    "learning_rate = 0.005\n",
    "learning_rate_decay = 0.9\n",
    "min_learning_rate = 0.0001\n",
    "keep_probability = 0.75"
   ]
  },
  {
   "cell_type": "code",
   "execution_count": 39,
   "metadata": {},
   "outputs": [],
   "source": [
    "def model_inputs(batch_size):\n",
    "    '''Create palceholders for inputs to the model'''\n",
    "    input_data = tf.placeholder(tf.int32, [batch_size, None], name='input')\n",
    "    targets = tf.placeholder(tf.int32, [batch_size, None], name='targets')\n",
    "    lr = tf.placeholder(tf.float32, name='learning_rate')\n",
    "    keep_prob = tf.placeholder(tf.float32, name='keep_prob')\n",
    "\n",
    "    return input_data, targets, lr, keep_prob"
   ]
  },
  {
   "cell_type": "code",
   "execution_count": 40,
   "metadata": {},
   "outputs": [
    {
     "name": "stdout",
     "output_type": "stream",
     "text": [
      "WARNING:tensorflow:From /opt/anaconda/lib/python3.6/site-packages/tensorflow/contrib/learn/python/learn/datasets/base.py:198: retry (from tensorflow.contrib.learn.python.learn.datasets.base) is deprecated and will be removed in a future version.\n",
      "Instructions for updating:\n",
      "Use the retry module or similar alternatives.\n"
     ]
    }
   ],
   "source": [
    "# Reset the graph to ensure that it is ready for training\n",
    "tf.reset_default_graph()\n",
    "\n",
    "    \n",
    "# Placeholders for feed_dict    \n",
    "input_data, targets, lr, keep_prob = model_inputs(batch_size)\n",
    "max_sequence_length_batch = tf.placeholder(tf.int32, shape=())\n",
    "\n",
    "\n",
    "input_shape = tf.shape(input_data)\n",
    "target_sequence_lengths = tf.fill([input_shape[0]], max_sequence_length_batch)\n",
    "\n",
    "# Create the training and inference logits\n",
    "#FIXME: Change \"batch_size\" to input_shape[0]?\n",
    "train_logits, inference_logits = \\\n",
    "seq2seq_model(\n",
    "    tf.reverse(input_data, [-1]), targets, keep_prob, batch_size,# source_sequence_lengths,\n",
    "    target_sequence_lengths, \n",
    "    len(answers_vocab_to_int), len(questions_vocab_to_int),\n",
    "    encoding_embedding_size, decoding_embedding_size, rnn_size, num_layers, questions_vocab_to_int)\n",
    "\n",
    "\n",
    "# Find the shape of the input data for sequence_loss\n",
    "#sequence_length = tf.placeholder_with_default(max_line_length, None, name=\"sequence_length\")\n",
    "with tf.name_scope(\"optimization\"):\n",
    "    # Loss function\n",
    "    cost = tf.contrib.seq2seq.sequence_loss(\n",
    "    train_logits,\n",
    "    targets,\n",
    "    tf.ones([batch_size, max_sequence_length_batch]) #FIXME: Weight the <PAD> tokens as 0\n",
    "    )\n",
    "\n",
    "\n",
    "    # Optimizer\n",
    "    optimizer = tf.train.AdamOptimizer(learning_rate)\n",
    "\n",
    "    # Gradient Clipping\n",
    "    gradients = optimizer.compute_gradients(cost)\n",
    "    capped_gradients = [(tf.clip_by_value(grad, -5., 5.), var) for grad, var in gradients if grad is not None]\n",
    "    train_op = optimizer.apply_gradients(capped_gradients)"
   ]
  },
  {
   "cell_type": "code",
   "execution_count": 41,
   "metadata": {},
   "outputs": [],
   "source": [
    "def pad_sentence_batch(sentence_batch, vocab_to_int):\n",
    "    \"\"\"Pad sentences with <PAD> so that each sentence of a batch has the same length\"\"\"\n",
    "    max_sentence = max([len(sentence) for sentence in sentence_batch])\n",
    "    return [sentence + [vocab_to_int['<PAD>']] * (max_sentence - len(sentence)) for sentence in sentence_batch]"
   ]
  },
  {
   "cell_type": "code",
   "execution_count": 42,
   "metadata": {},
   "outputs": [],
   "source": [
    "def batch_data(questions, answers, batch_size):\n",
    "    \"\"\"Batch questions and answers together\"\"\"\n",
    "    for batch_i in range(0, len(questions)//batch_size):\n",
    "        start_i = batch_i * batch_size\n",
    "        questions_batch = questions[start_i:start_i + batch_size]\n",
    "        answers_batch = answers[start_i:start_i + batch_size]\n",
    "        pad_questions_batch = np.array(pad_sentence_batch(questions_batch, questions_vocab_to_int))\n",
    "        pad_answers_batch = np.array(pad_sentence_batch(answers_batch, answers_vocab_to_int))\n",
    "        yield pad_questions_batch, pad_answers_batch"
   ]
  },
  {
   "cell_type": "code",
   "execution_count": 43,
   "metadata": {},
   "outputs": [
    {
     "name": "stdout",
     "output_type": "stream",
     "text": [
      "117585\n",
      "20750\n"
     ]
    }
   ],
   "source": [
    "# Validate the training with 10% of the data\n",
    "train_valid_split = int(len(sorted_questions)*0.15)\n",
    "\n",
    "# Split the questions and answers into training and validating data\n",
    "train_questions = sorted_questions[train_valid_split:]\n",
    "train_answers = sorted_answers[train_valid_split:]\n",
    "\n",
    "valid_questions = sorted_questions[:train_valid_split]\n",
    "valid_answers = sorted_answers[:train_valid_split]\n",
    "\n",
    "print(len(train_questions))\n",
    "print(len(valid_questions))"
   ]
  },
  {
   "cell_type": "code",
   "execution_count": 44,
   "metadata": {
    "scrolled": true
   },
   "outputs": [
    {
     "name": "stdout",
     "output_type": "stream",
     "text": [
      "Epoch   1/100 Batch    0/918 - Loss:  0.180, Seconds: 99.58\n",
      "Epoch   1/100 Batch  100/918 - Loss:  5.848, Seconds: 11.33\n",
      "Epoch   1/100 Batch  200/918 - Loss:  4.561, Seconds: 12.10\n",
      "Epoch   1/100 Batch  300/918 - Loss:  4.450, Seconds: 12.47\n",
      "Epoch   1/100 Batch  400/918 - Loss:  4.283, Seconds: 12.70\n",
      "Valid Loss:  2.093, Seconds:  5.74\n",
      "New Record!\n",
      "Epoch   1/100 Batch  500/918 - Loss:  4.221, Seconds: 12.23\n",
      "Epoch   1/100 Batch  600/918 - Loss:  4.240, Seconds: 14.46\n",
      "Epoch   1/100 Batch  700/918 - Loss:  4.200, Seconds: 14.72\n",
      "Epoch   1/100 Batch  800/918 - Loss:  4.167, Seconds: 16.77\n",
      "Epoch   1/100 Batch  900/918 - Loss:  4.081, Seconds: 17.37\n",
      "Valid Loss:  2.059, Seconds:  5.59\n",
      "New Record!\n",
      "Epoch   2/100 Batch    0/918 - Loss:  0.730, Seconds: 11.44\n",
      "Epoch   2/100 Batch  100/918 - Loss:  3.961, Seconds: 11.12\n",
      "Epoch   2/100 Batch  200/918 - Loss:  3.918, Seconds: 12.09\n",
      "Epoch   2/100 Batch  300/918 - Loss:  3.934, Seconds: 12.39\n",
      "Epoch   2/100 Batch  400/918 - Loss:  3.903, Seconds: 12.36\n",
      "Valid Loss:  1.937, Seconds:  5.57\n",
      "New Record!\n",
      "Epoch   2/100 Batch  500/918 - Loss:  3.907, Seconds: 13.07\n",
      "Epoch   2/100 Batch  600/918 - Loss:  3.972, Seconds: 14.48\n",
      "Epoch   2/100 Batch  700/918 - Loss:  3.958, Seconds: 14.51\n",
      "Epoch   2/100 Batch  800/918 - Loss:  3.951, Seconds: 16.14\n",
      "Epoch   2/100 Batch  900/918 - Loss:  3.886, Seconds: 17.93\n",
      "Valid Loss:  1.931, Seconds:  5.59\n",
      "New Record!\n",
      "Epoch   3/100 Batch    0/918 - Loss:  0.693, Seconds: 11.86\n",
      "Epoch   3/100 Batch  100/918 - Loss:  3.778, Seconds: 11.35\n",
      "Epoch   3/100 Batch  200/918 - Loss:  3.761, Seconds: 12.18\n",
      "Epoch   3/100 Batch  300/918 - Loss:  3.785, Seconds: 12.77\n",
      "Epoch   3/100 Batch  400/918 - Loss:  4.019, Seconds: 12.14\n",
      "Valid Loss:  1.937, Seconds:  5.59\n",
      "No Improvement.\n",
      "Epoch   3/100 Batch  500/918 - Loss:  3.861, Seconds: 12.97\n",
      "Epoch   3/100 Batch  600/918 - Loss:  3.886, Seconds: 14.36\n",
      "Epoch   3/100 Batch  700/918 - Loss:  3.890, Seconds: 15.01\n",
      "Epoch   3/100 Batch  800/918 - Loss:  3.880, Seconds: 16.13\n",
      "Epoch   3/100 Batch  900/918 - Loss:  3.796, Seconds: 17.55\n",
      "Valid Loss:  1.917, Seconds:  5.60\n",
      "New Record!\n",
      "Epoch   4/100 Batch    0/918 - Loss:  0.678, Seconds: 11.77\n",
      "Epoch   4/100 Batch  100/918 - Loss:  3.698, Seconds: 11.52\n",
      "Epoch   4/100 Batch  200/918 - Loss:  3.681, Seconds: 11.84\n",
      "Epoch   4/100 Batch  300/918 - Loss:  3.704, Seconds: 12.82\n",
      "Epoch   4/100 Batch  400/918 - Loss:  3.695, Seconds: 12.24\n",
      "Valid Loss:  1.897, Seconds:  5.57\n",
      "New Record!\n",
      "Epoch   4/100 Batch  500/918 - Loss:  3.707, Seconds: 13.28\n",
      "Epoch   4/100 Batch  600/918 - Loss:  3.764, Seconds: 14.51\n",
      "Epoch   4/100 Batch  700/918 - Loss:  3.765, Seconds: 14.57\n",
      "Epoch   4/100 Batch  800/918 - Loss:  3.759, Seconds: 16.49\n",
      "Epoch   4/100 Batch  900/918 - Loss:  3.697, Seconds: 17.96\n",
      "Valid Loss:  1.894, Seconds:  5.56\n",
      "New Record!\n",
      "Epoch   5/100 Batch    0/918 - Loss:  0.659, Seconds: 11.46\n",
      "Epoch   5/100 Batch  100/918 - Loss:  3.608, Seconds: 11.91\n",
      "Epoch   5/100 Batch  200/918 - Loss:  3.589, Seconds: 12.57\n",
      "Epoch   5/100 Batch  300/918 - Loss:  3.629, Seconds: 12.84\n",
      "Epoch   5/100 Batch  400/918 - Loss:  3.609, Seconds: 12.44\n",
      "Valid Loss:  1.863, Seconds:  5.60\n",
      "New Record!\n",
      "Epoch   5/100 Batch  500/918 - Loss:  3.627, Seconds: 13.00\n",
      "Epoch   5/100 Batch  600/918 - Loss:  3.690, Seconds: 14.14\n",
      "Epoch   5/100 Batch  700/918 - Loss:  3.688, Seconds: 14.93\n",
      "Epoch   5/100 Batch  800/918 - Loss:  3.686, Seconds: 15.57\n",
      "Epoch   5/100 Batch  900/918 - Loss:  3.633, Seconds: 17.18\n",
      "Valid Loss:  1.877, Seconds:  5.57\n",
      "No Improvement.\n",
      "Epoch   6/100 Batch    0/918 - Loss:  0.649, Seconds: 11.34\n",
      "Epoch   6/100 Batch  100/918 - Loss:  3.542, Seconds: 12.20\n",
      "Epoch   6/100 Batch  200/918 - Loss:  3.533, Seconds: 12.28\n",
      "Epoch   6/100 Batch  300/918 - Loss:  3.568, Seconds: 12.53\n",
      "Epoch   6/100 Batch  400/918 - Loss:  3.552, Seconds: 12.44\n",
      "Valid Loss:  1.872, Seconds:  5.59\n",
      "No Improvement.\n",
      "Epoch   6/100 Batch  500/918 - Loss:  3.567, Seconds: 13.00\n",
      "Epoch   6/100 Batch  600/918 - Loss:  3.635, Seconds: 14.45\n",
      "Epoch   6/100 Batch  700/918 - Loss:  3.634, Seconds: 15.14\n",
      "Epoch   6/100 Batch  800/918 - Loss:  3.630, Seconds: 16.30\n",
      "Epoch   6/100 Batch  900/918 - Loss:  3.588, Seconds: 17.36\n",
      "Valid Loss:  1.864, Seconds:  5.60\n",
      "No Improvement.\n",
      "Epoch   7/100 Batch    0/918 - Loss:  0.639, Seconds: 11.80\n",
      "Epoch   7/100 Batch  100/918 - Loss:  3.492, Seconds: 11.48\n",
      "Epoch   7/100 Batch  200/918 - Loss:  3.499, Seconds: 12.22\n",
      "Epoch   7/100 Batch  300/918 - Loss:  3.527, Seconds: 12.86\n",
      "Epoch   7/100 Batch  400/918 - Loss:  3.512, Seconds: 12.31\n",
      "Valid Loss:  1.877, Seconds:  5.58\n",
      "No Improvement.\n",
      "Epoch   7/100 Batch  500/918 - Loss:  3.529, Seconds: 12.98\n",
      "Epoch   7/100 Batch  600/918 - Loss:  3.587, Seconds: 14.00\n",
      "Epoch   7/100 Batch  700/918 - Loss:  3.587, Seconds: 15.49\n",
      "Epoch   7/100 Batch  800/918 - Loss:  3.586, Seconds: 15.78\n",
      "Epoch   7/100 Batch  900/918 - Loss:  3.543, Seconds: 17.72\n",
      "Valid Loss:  1.860, Seconds:  5.58\n",
      "New Record!\n",
      "Epoch   8/100 Batch    0/918 - Loss:  0.632, Seconds: 12.16\n",
      "Epoch   8/100 Batch  100/918 - Loss:  3.452, Seconds: 11.51\n",
      "Epoch   8/100 Batch  200/918 - Loss:  3.452, Seconds: 11.92\n",
      "Epoch   8/100 Batch  300/918 - Loss:  3.484, Seconds: 12.54\n",
      "Epoch   8/100 Batch  400/918 - Loss:  3.462, Seconds: 12.38\n",
      "Valid Loss:  1.842, Seconds:  5.58\n",
      "New Record!\n",
      "Epoch   8/100 Batch  500/918 - Loss:  3.484, Seconds: 13.07\n",
      "Epoch   8/100 Batch  600/918 - Loss:  3.556, Seconds: 13.82\n",
      "Epoch   8/100 Batch  700/918 - Loss:  3.551, Seconds: 15.00\n",
      "Epoch   8/100 Batch  800/918 - Loss:  3.552, Seconds: 15.92\n",
      "Epoch   8/100 Batch  900/918 - Loss:  3.500, Seconds: 18.18\n",
      "Valid Loss:  1.856, Seconds:  5.60\n",
      "No Improvement.\n",
      "Epoch   9/100 Batch    0/918 - Loss:  0.625, Seconds: 11.29\n",
      "Epoch   9/100 Batch  100/918 - Loss:  3.416, Seconds: 11.83\n",
      "Epoch   9/100 Batch  200/918 - Loss:  3.410, Seconds: 12.20\n",
      "Epoch   9/100 Batch  300/918 - Loss:  3.447, Seconds: 12.22\n",
      "Epoch   9/100 Batch  400/918 - Loss:  3.432, Seconds: 12.64\n",
      "Valid Loss:  1.846, Seconds:  5.61\n",
      "No Improvement.\n",
      "Epoch   9/100 Batch  500/918 - Loss:  3.447, Seconds: 12.70\n",
      "Epoch   9/100 Batch  600/918 - Loss:  3.510, Seconds: 14.53\n",
      "Epoch   9/100 Batch  700/918 - Loss:  3.513, Seconds: 14.82\n",
      "Epoch   9/100 Batch  800/918 - Loss:  3.512, Seconds: 15.77\n",
      "Epoch   9/100 Batch  900/918 - Loss:  3.463, Seconds: 17.40\n",
      "Valid Loss:  1.861, Seconds:  5.60\n",
      "No Improvement.\n",
      "Epoch  10/100 Batch    0/918 - Loss:  0.618, Seconds: 11.60\n",
      "Epoch  10/100 Batch  100/918 - Loss:  3.381, Seconds: 11.38\n",
      "Epoch  10/100 Batch  200/918 - Loss:  3.376, Seconds: 12.25\n",
      "Epoch  10/100 Batch  300/918 - Loss:  3.414, Seconds: 12.12\n",
      "Epoch  10/100 Batch  400/918 - Loss:  3.395, Seconds: 11.78\n",
      "Valid Loss:  1.851, Seconds:  5.58\n",
      "No Improvement.\n",
      "Epoch  10/100 Batch  500/918 - Loss:  3.408, Seconds: 12.60\n",
      "Epoch  10/100 Batch  600/918 - Loss:  3.474, Seconds: 14.06\n",
      "Epoch  10/100 Batch  700/918 - Loss:  3.474, Seconds: 14.91\n",
      "Epoch  10/100 Batch  800/918 - Loss:  3.471, Seconds: 16.46\n",
      "Epoch  10/100 Batch  900/918 - Loss:  3.428, Seconds: 17.26\n",
      "Valid Loss:  1.864, Seconds:  5.58\n",
      "No Improvement.\n",
      "Stopping Training.\n"
     ]
    }
   ],
   "source": [
    "#TRAINING\n",
    "display_step = 100 # Check training loss after every 100 batches\n",
    "total_train_loss = 0 # Record the training loss for each display step\n",
    "\n",
    "#VALIDATION\n",
    "stop_early = 0 \n",
    "stop = 5 # If the validation loss does decrease in 5 consecutive checks, stop training\n",
    "validation_check = ((len(train_questions))//batch_size//2)-1 #Check validation loss every half-epoch\n",
    "summary_valid_loss = [] # Record the validation loss for saving improvements in the model\n",
    "\n",
    "checkpoint = \"./checkpoints/best_model.ckpt\" \n",
    "\n",
    "with tf.Session(config=tf.ConfigProto(log_device_placement=True)) as sess:\n",
    "    sess.run(tf.global_variables_initializer())\n",
    "\n",
    "    for epoch_i in range(1, epochs+1):\n",
    "        for batch_i, (questions_batch, answers_batch) in enumerate(\n",
    "                batch_data(train_questions, train_answers, batch_size)):\n",
    "            start_time = time.time()\n",
    "            _, loss = sess.run(\n",
    "                [train_op, cost],\n",
    "                {input_data: questions_batch,\n",
    "                 targets: answers_batch,\n",
    "                 lr: learning_rate,\n",
    "                 max_sequence_length_batch: answers_batch.shape[1],\n",
    "                 keep_prob: keep_probability})\n",
    "\n",
    "            total_train_loss += loss\n",
    "            end_time = time.time()\n",
    "            batch_time = end_time - start_time\n",
    "            \n",
    "            total_train_loss += loss\n",
    "            end_time = time.time()\n",
    "            batch_time = end_time - start_time\n",
    "\n",
    "            if batch_i % display_step == 0:\n",
    "                print('Epoch {:>3}/{} Batch {:>4}/{} - Loss: {:>6.3f}, Seconds: {:>4.2f}'\n",
    "                      .format(epoch_i,\n",
    "                              epochs, \n",
    "                              batch_i, \n",
    "                              len(train_questions) // batch_size, \n",
    "                              total_train_loss / display_step, \n",
    "                              batch_time*display_step))\n",
    "                total_train_loss = 0\n",
    "\n",
    "            if batch_i % validation_check == 0 and batch_i > 0:\n",
    "                total_valid_loss = 0\n",
    "                start_time = time.time()\n",
    "                for batch_ii, (questions_batch, answers_batch) in \\\n",
    "                        enumerate(batch_data(valid_questions, valid_answers, batch_size)):\n",
    "                    valid_loss = sess.run(\n",
    "                    cost, {input_data: questions_batch,\n",
    "                           targets: answers_batch,\n",
    "                           lr: learning_rate,\n",
    "                           max_sequence_length_batch: answers_batch.shape[1],\n",
    "                           keep_prob: 1})\n",
    "                    total_valid_loss += valid_loss\n",
    "                end_time = time.time()\n",
    "                batch_time = end_time - start_time\n",
    "                avg_valid_loss = total_valid_loss / (len(valid_questions) / batch_size)\n",
    "                print('Valid Loss: {:>6.3f}, Seconds: {:>5.2f}'.format(avg_valid_loss, batch_time))\n",
    "\n",
    "                # Reduce learning rate, but not below its minimum value\n",
    "                learning_rate *= learning_rate_decay\n",
    "                if learning_rate < min_learning_rate:\n",
    "                    learning_rate = min_learning_rate\n",
    "\n",
    "                summary_valid_loss.append(avg_valid_loss)\n",
    "                if avg_valid_loss <= min(summary_valid_loss):\n",
    "                    print('New Record!') \n",
    "                    stop_early = 0\n",
    "                    saver = tf.train.Saver() \n",
    "                    saver.save(sess, checkpoint)\n",
    "\n",
    "                else:\n",
    "                    print(\"No Improvement.\")\n",
    "                    stop_early += 1\n",
    "                    if stop_early == stop:\n",
    "                        break\n",
    "    \n",
    "        if stop_early == stop:\n",
    "            print(\"Stopping Training.\")\n",
    "            break\n"
   ]
  },
  {
   "cell_type": "code",
   "execution_count": 45,
   "metadata": {},
   "outputs": [],
   "source": [
    "def question_to_seq(question, vocab_to_int):\n",
    "    '''Prepare the question for the model'''\n",
    "    \n",
    "    question = clean_text(question)\n",
    "    return [vocab_to_int.get(word, vocab_to_int['<UNK>']) for word in question.split()]"
   ]
  },
  {
   "cell_type": "code",
   "execution_count": 63,
   "metadata": {},
   "outputs": [
    {
     "name": "stdout",
     "output_type": "stream",
     "text": [
      "INFO:tensorflow:Restoring parameters from ./checkpoints/best_model.ckpt\n",
      "Question\n",
      "  Word Ids:      [88, 9, 39]\n",
      "  Input Words: ['what', 'is', 'it']\n",
      "\n",
      "Answer\n",
      "  Word Ids:      [1, 52, 12, 74, 8093]\n",
      "  Response Words: ['i', 'do', 'not', 'know', '<EOS>']\n"
     ]
    }
   ],
   "source": [
    "# Create your own input question\n",
    "#input_question = 'How are you?'\n",
    "\n",
    "# Use a question from the data as your input\n",
    "random = np.random.choice(len(short_questions))\n",
    "input_question = short_questions[random]\n",
    "\n",
    "# Prepare the question\n",
    "input_question = question_to_seq(input_question, questions_vocab_to_int)\n",
    "\n",
    "# Pad the questions until it equals the max_line_length\n",
    "input_question = input_question + [questions_vocab_to_int[\"<PAD>\"]] * (max_line_length - len(input_question))\n",
    "# Add empty questions so the the input_data is the correct shape\n",
    "batch_shell = np.zeros((batch_size, max_line_length))\n",
    "# Set the first question to be out input question\n",
    "batch_shell[0] = input_question    \n",
    "\n",
    "saver = tf.train.Saver()\n",
    "with tf.Session() as sess:\n",
    "    # Run the model with the input question\n",
    "    saver.restore(sess, checkpoint)\n",
    "    answer_logits = sess.run(inference_logits, {input_data: batch_shell, \n",
    "                                                keep_prob: 1.0})[0]\n",
    "\n",
    "# Remove the padding from the Question and Answer\n",
    "pad_q = questions_vocab_to_int[\"<PAD>\"]\n",
    "pad_a = answers_vocab_to_int[\"<PAD>\"]\n",
    "\n",
    "print('Question')\n",
    "print('  Word Ids:      {}'.format([i for i in input_question if i != pad_q]))\n",
    "print('  Input Words: {}'.format([questions_int_to_vocab[i] for i in input_question if i != pad_q]))\n",
    "\n",
    "print('\\nAnswer')\n",
    "print('  Word Ids:      {}'.format([i for i in np.argmax(answer_logits, 1) if i != pad_a]))\n",
    "print('  Response Words: {}'.format([answers_int_to_vocab[i] for i in np.argmax(answer_logits, 1) if i != pad_a]))"
   ]
  },
  {
   "cell_type": "code",
   "execution_count": null,
   "metadata": {},
   "outputs": [],
   "source": []
  },
  {
   "cell_type": "code",
   "execution_count": null,
   "metadata": {},
   "outputs": [],
   "source": []
  }
 ],
 "metadata": {
  "anaconda-cloud": {},
  "kernelspec": {
   "display_name": "Python 3",
   "language": "python",
   "name": "python3"
  },
  "language_info": {
   "codemirror_mode": {
    "name": "ipython",
    "version": 3
   },
   "file_extension": ".py",
   "mimetype": "text/x-python",
   "name": "python",
   "nbconvert_exporter": "python",
   "pygments_lexer": "ipython3",
   "version": "3.6.5"
  }
 },
 "nbformat": 4,
 "nbformat_minor": 1
}
